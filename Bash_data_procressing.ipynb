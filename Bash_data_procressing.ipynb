{
 "cells": [
  {
   "cell_type": "markdown",
   "id": "5d2d1a56-5626-4c80-84fa-1f41e0e613a4",
   "metadata": {},
   "source": [
    "[back to main page](/RhodoGeno/index.html)"
   ]
  },
  {
   "cell_type": "markdown",
   "id": "71a6cd8b-e832-4688-9f9c-0c294e090939",
   "metadata": {},
   "source": [
    "# Data preprocessing for analyzing the assemblies\n",
    "\n",
    "This notebook includes all scripts used for data preprocessing and assembly analysis. For figure generation please refer [figure generation](/RhodoGeno/Supplementary_R_plots.html)."
   ]
  },
  {
   "cell_type": "markdown",
   "id": "0200d3e7-345e-4076-88f9-16f4c65cfdde",
   "metadata": {},
   "source": [
    "## MUMMer for synteny coords"
   ]
  },
  {
   "cell_type": "code",
   "execution_count": 1,
   "id": "577102e4-493a-47d9-bcec-82e57777a9e6",
   "metadata": {},
   "outputs": [],
   "source": [
    "cd /home/Drives/HDD03_06T_SDE/anna/SyntenyPlotDSMSubH2/MUMer"
   ]
  },
  {
   "cell_type": "code",
   "execution_count": 2,
   "id": "1c713282-f0fa-457d-b741-108a0f85ffd5",
   "metadata": {},
   "outputs": [
    {
     "name": "stdout",
     "output_type": "stream",
     "text": [
      "1: PREPARING DATA\n",
      "2,3: RUNNING mummer AND CREATING CLUSTERS\n",
      "# reading input file \"synteny.ntref\" of length 4520363\n",
      "# construct suffix tree for sequence of length 4520363\n",
      "# (maximum reference length is 536870908)\n",
      "# (maximum query length is 4294967295)\n",
      "# process 45203 characters per dot\n",
      "#....................................................................................................\n",
      "# CONSTRUCTIONTIME /usr/bin/mummer synteny.ntref 1.30\n",
      "# reading input file \"/home/Drives/HDD03_06T_SDE/anna/SyntenyPlotDSMSubH2/MUMer/../genomes/GCF_049434525.1_MWCSPHH2ANNA_genomic.fasta\" of length 4520329\n",
      "# matching query-file \"/home/Drives/HDD03_06T_SDE/anna/SyntenyPlotDSMSubH2/MUMer/../genomes/GCF_049434525.1_MWCSPHH2ANNA_genomic.fasta\"\n",
      "# against subject-file \"synteny.ntref\"\n",
      "# COMPLETETIME /usr/bin/mummer synteny.ntref 4.19\n",
      "# SPACE /usr/bin/mummer synteny.ntref 8.75\n",
      "4: FINISHING DATA\n"
     ]
    }
   ],
   "source": [
    "# Step 1: Alignment of both genomes using nucmer\n",
    "nucmer --maxmatch -p synteny ../genomes/DSM158.fasta ../genomes/GCF_049434525.1_MWCSPHH2ANNA_genomic.fasta\n",
    "\n",
    "# Step 2: match-filtering\n",
    "delta-filter -1 synteny.delta > synteny.filtered.delta\n",
    "\n",
    "# Step 3: Create Coord-file (for plotting)\n",
    "show-coords -rcl -T synteny.filtered.delta > synteny.coords\n"
   ]
  },
  {
   "cell_type": "markdown",
   "id": "f237f6ce-9e61-4da4-900c-51308187e573",
   "metadata": {},
   "source": [
    "# Mash-Distanzen"
   ]
  },
  {
   "cell_type": "code",
   "execution_count": 3,
   "id": "c593e710-2dc2-4633-b3cc-63b81b0249e3",
   "metadata": {
    "scrolled": true
   },
   "outputs": [
    {
     "name": "stdout",
     "output_type": "stream",
     "text": [
      "Sketching DSM158.fasta...\n",
      "Sketching GCF_000012905.2_ASM1290v2_genomic.fasta...\n",
      "Sketching GCF_000015985.1_ASM1598v1_genomic.fasta...\n",
      "Sketching GCF_000021005.1_ASM2100v1_genomic.fasta...\n",
      "Sketching GCF_000212605.1_ASM21260v1_genomic.fasta...\n",
      "Sketching GCF_000269625.1_PB_Rhod_Spha_2_4_1_V1_genomic.fasta...\n",
      "Sketching GCF_000273405.1_Rhod_Spha_2_4_1_V1_genomic.fasta...\n",
      "Sketching GCF_001576595.1_ASM157659v1_genomic.fasta...\n",
      "Sketching GCF_001685625.1_ASM168562v1_genomic.fasta...\n",
      "Sketching GCF_002706325.1_ASM270632v1_genomic.fasta...\n",
      "Sketching GCF_003324715.1_ASM332471v1_genomic.fasta...\n",
      "Sketching GCF_003846365.1_ASM384636v1_genomic.fasta...\n",
      "Sketching GCF_003846385.1_ASM384638v1_genomic.fasta...\n",
      "Sketching GCF_003846405.1_ASM384640v1_genomic.fasta...\n",
      "Sketching GCF_003846425.1_ASM384642v1_genomic.fasta...\n",
      "Sketching GCF_012647365.1_ASM1264736v1_genomic.fasta...\n",
      "Sketching GCF_049434525.1_MWCSPHH2ANNA_genomic.fasta...\n",
      "Sketching GCF_052246835.1_ASM5224683v1_genomic.fasta...\n",
      "Writing to ./all.msh...\n"
     ]
    }
   ],
   "source": [
    "# install Mash (if not installed)\n",
    "cd /home/Drives/HDD03_06T_SDE/anna/SyntenyPlotDSMSubH2/genomes\n",
    "conda activate mash\n",
    "mash sketch -o ./all *.fasta\n",
    "mash dist all.msh all.msh > ../mash/dist.tab\n",
    "conda deactivate"
   ]
  },
  {
   "cell_type": "markdown",
   "id": "1ee3a98b-841d-496d-9402-93ec1d410335",
   "metadata": {},
   "source": [
    "# Quality Assessment of the genomes"
   ]
  },
  {
   "cell_type": "markdown",
   "id": "38dcc00d-d4af-4872-a077-b3cc00fe4215",
   "metadata": {},
   "source": [
    "## busco"
   ]
  },
  {
   "cell_type": "code",
   "execution_count": 4,
   "id": "6f38c94c-8a6c-4dd3-821e-6cc1566a9aee",
   "metadata": {
    "scrolled": true
   },
   "outputs": [
    {
     "name": "stdout",
     "output_type": "stream",
     "text": [
      "2025-10-30 10:16:28 INFO:\t***** Start a BUSCO v6.0.0 analysis, current time: 10/30/2025 10:16:28 *****\n",
      "2025-10-30 10:16:28 INFO:\tConfiguring BUSCO with local environment\n",
      "2025-10-30 10:16:28 INFO:\tRunning genome mode\n",
      "2025-10-30 10:16:28 INFO:\tDownloading information on latest versions of BUSCO data...\n",
      "2025-10-30 10:16:30 INFO:\tInput file is /home/Drives/HDD03_06T_SDE/anna/SyntenyPlotDSMSubH2/genomes/DSM158.fasta\n",
      "2025-10-30 10:16:30 INFO:\tThe local file or folder /home/Drives/HDD03_06T_SDE/anna/SyntenyPlotDSMSubH2/genomes/busco_downloads/lineages/rhodobacter_odb12 is the last available version.\n",
      "2025-10-30 10:16:31 INFO:\tRunning BUSCO using lineage dataset rhodobacter_odb12 (prokaryota, 2025-05-14)\n",
      "2025-10-30 10:16:31 INFO:\tRunning 1 job(s) on bbtools, starting at 10/30/2025 10:16:31\n",
      "2025-10-30 10:16:32 INFO:\t[bbtools]\t1 of 1 task(s) completed\n",
      "2025-10-30 10:16:32 INFO:\t***** Run Prodigal on input to predict and extract genes *****\n",
      "2025-10-30 10:16:32 INFO:\tRunning Prodigal with genetic code 11 in single mode\n",
      "2025-10-30 10:16:32 INFO:\tRunning 1 job(s) on prodigal, starting at 10/30/2025 10:16:32\n",
      "2025-10-30 10:16:41 INFO:\t[prodigal]\t1 of 1 task(s) completed\n",
      "2025-10-30 10:16:42 INFO:\tGenetic code 11 selected as optimal\n",
      "2025-10-30 10:16:42 INFO:\t***** Run HMMER on gene sequences *****\n",
      "2025-10-30 10:16:42 INFO:\tRunning 1343 job(s) on hmmsearch, starting at 10/30/2025 10:16:42\n",
      "2025-10-30 10:16:44 INFO:\t[hmmsearch]\t135 of 1343 task(s) completed\n",
      "2025-10-30 10:16:45 INFO:\t[hmmsearch]\t269 of 1343 task(s) completed\n",
      "2025-10-30 10:16:45 INFO:\t[hmmsearch]\t403 of 1343 task(s) completed\n",
      "2025-10-30 10:16:46 INFO:\t[hmmsearch]\t538 of 1343 task(s) completed\n",
      "2025-10-30 10:16:47 INFO:\t[hmmsearch]\t672 of 1343 task(s) completed\n",
      "2025-10-30 10:16:48 INFO:\t[hmmsearch]\t806 of 1343 task(s) completed\n",
      "2025-10-30 10:16:48 INFO:\t[hmmsearch]\t941 of 1343 task(s) completed\n",
      "2025-10-30 10:16:49 INFO:\t[hmmsearch]\t1075 of 1343 task(s) completed\n",
      "2025-10-30 10:16:50 INFO:\t[hmmsearch]\t1209 of 1343 task(s) completed\n",
      "2025-10-30 10:16:52 INFO:\t[hmmsearch]\t1343 of 1343 task(s) completed\n",
      "2025-10-30 10:16:53 INFO:\tResults:\tC:98.2%[S:98.0%,D:0.2%],F:0.5%,M:1.3%,n:1343\t   \n",
      "\n",
      "2025-10-30 10:16:53 INFO:\t\n",
      "\n",
      "    ---------------------------------------------------\n",
      "    |Results from dataset rhodobacter_odb12            |\n",
      "    ---------------------------------------------------\n",
      "    |C:98.2%[S:98.0%,D:0.2%],F:0.5%,M:1.3%,n:1343      |\n",
      "    |1319    Complete BUSCOs (C)                       |\n",
      "    |1316    Complete and single-copy BUSCOs (S)       |\n",
      "    |3    Complete and duplicated BUSCOs (D)           |\n",
      "    |7    Fragmented BUSCOs (F)                        |\n",
      "    |17    Missing BUSCOs (M)                          |\n",
      "    |1343    Total BUSCO groups searched               |\n",
      "    ---------------------------------------------------\n",
      "2025-10-30 10:16:53 INFO:\tBUSCO analysis done. Total running time: 23 seconds\n",
      "2025-10-30 10:16:53 INFO:\tResults written in /home/Drives/HDD03_06T_SDE/anna/SyntenyPlotDSMSubH2/genomes/DSM\n",
      "2025-10-30 10:16:53 INFO:\tFor assistance with interpreting the results, please consult the userguide: https://busco.ezlab.org/busco_userguide.html\n",
      "\n",
      "2025-10-30 10:16:53 INFO:\tVisit this page https://gitlab.com/ezlab/busco#how-to-cite-busco to see how to cite BUSCO\n",
      "2025-10-30 10:16:53 INFO:\tThank you for using BUSCO! Anonymous usage data is gathered to improve the tool. You may opt out with --opt-out-run-stats.\n",
      "2025-10-30 10:16:54 INFO:\t***** Start a BUSCO v6.0.0 analysis, current time: 10/30/2025 10:16:54 *****\n",
      "2025-10-30 10:16:54 INFO:\tConfiguring BUSCO with local environment\n",
      "2025-10-30 10:16:54 INFO:\tRunning genome mode\n",
      "2025-10-30 10:16:54 INFO:\tDownloading information on latest versions of BUSCO data...\n",
      "2025-10-30 10:16:57 INFO:\tInput file is /home/Drives/HDD03_06T_SDE/anna/SyntenyPlotDSMSubH2/genomes/GCF_000012905.2_ASM1290v2_genomic.fasta\n",
      "2025-10-30 10:16:57 INFO:\tThe local file or folder /home/Drives/HDD03_06T_SDE/anna/SyntenyPlotDSMSubH2/genomes/busco_downloads/lineages/rhodobacter_odb12 is the last available version.\n",
      "2025-10-30 10:16:57 INFO:\tRunning BUSCO using lineage dataset rhodobacter_odb12 (prokaryota, 2025-05-14)\n",
      "2025-10-30 10:16:57 INFO:\tRunning 1 job(s) on bbtools, starting at 10/30/2025 10:16:57\n",
      "2025-10-30 10:16:58 INFO:\t[bbtools]\t1 of 1 task(s) completed\n",
      "2025-10-30 10:16:58 INFO:\t***** Run Prodigal on input to predict and extract genes *****\n",
      "2025-10-30 10:16:58 INFO:\tRunning Prodigal with genetic code 11 in single mode\n",
      "2025-10-30 10:16:58 INFO:\tRunning 1 job(s) on prodigal, starting at 10/30/2025 10:16:58\n",
      "2025-10-30 10:17:09 INFO:\t[prodigal]\t1 of 1 task(s) completed\n",
      "2025-10-30 10:17:09 INFO:\tGenetic code 11 selected as optimal\n",
      "2025-10-30 10:17:09 INFO:\t***** Run HMMER on gene sequences *****\n",
      "2025-10-30 10:17:09 INFO:\tRunning 1343 job(s) on hmmsearch, starting at 10/30/2025 10:17:09\n",
      "2025-10-30 10:17:11 INFO:\t[hmmsearch]\t135 of 1343 task(s) completed\n",
      "2025-10-30 10:17:12 INFO:\t[hmmsearch]\t269 of 1343 task(s) completed\n",
      "2025-10-30 10:17:12 INFO:\t[hmmsearch]\t403 of 1343 task(s) completed\n",
      "2025-10-30 10:17:13 INFO:\t[hmmsearch]\t538 of 1343 task(s) completed\n",
      "2025-10-30 10:17:14 INFO:\t[hmmsearch]\t672 of 1343 task(s) completed\n",
      "2025-10-30 10:17:15 INFO:\t[hmmsearch]\t806 of 1343 task(s) completed\n",
      "2025-10-30 10:17:15 INFO:\t[hmmsearch]\t941 of 1343 task(s) completed\n",
      "2025-10-30 10:17:16 INFO:\t[hmmsearch]\t1075 of 1343 task(s) completed\n",
      "2025-10-30 10:17:17 INFO:\t[hmmsearch]\t1209 of 1343 task(s) completed\n",
      "2025-10-30 10:17:19 INFO:\t[hmmsearch]\t1343 of 1343 task(s) completed\n",
      "2025-10-30 10:17:20 INFO:\tResults:\tC:98.5%[S:98.3%,D:0.2%],F:0.4%,M:1.1%,n:1343\t   \n",
      "\n",
      "2025-10-30 10:17:21 INFO:\t\n",
      "\n",
      "    ---------------------------------------------------\n",
      "    |Results from dataset rhodobacter_odb12            |\n",
      "    ---------------------------------------------------\n",
      "    |C:98.5%[S:98.3%,D:0.2%],F:0.4%,M:1.1%,n:1343      |\n",
      "    |1323    Complete BUSCOs (C)                       |\n",
      "    |1320    Complete and single-copy BUSCOs (S)       |\n",
      "    |3    Complete and duplicated BUSCOs (D)           |\n",
      "    |5    Fragmented BUSCOs (F)                        |\n",
      "    |15    Missing BUSCOs (M)                          |\n",
      "    |1343    Total BUSCO groups searched               |\n",
      "    ---------------------------------------------------\n",
      "2025-10-30 10:17:21 INFO:\tBUSCO analysis done. Total running time: 24 seconds\n",
      "2025-10-30 10:17:21 INFO:\tResults written in /home/Drives/HDD03_06T_SDE/anna/SyntenyPlotDSMSubH2/genomes/NCBI_Ref\n",
      "2025-10-30 10:17:21 INFO:\tFor assistance with interpreting the results, please consult the userguide: https://busco.ezlab.org/busco_userguide.html\n",
      "\n",
      "2025-10-30 10:17:21 INFO:\tVisit this page https://gitlab.com/ezlab/busco#how-to-cite-busco to see how to cite BUSCO\n",
      "2025-10-30 10:17:21 INFO:\tThank you for using BUSCO! Anonymous usage data is gathered to improve the tool. You may opt out with --opt-out-run-stats.\n",
      "2025-10-30 10:17:22 INFO:\t***** Start a BUSCO v6.0.0 analysis, current time: 10/30/2025 10:17:22 *****\n",
      "2025-10-30 10:17:22 INFO:\tConfiguring BUSCO with local environment\n",
      "2025-10-30 10:17:22 INFO:\tRunning genome mode\n",
      "2025-10-30 10:17:22 INFO:\tDownloading information on latest versions of BUSCO data...\n",
      "2025-10-30 10:17:24 INFO:\tInput file is /home/Drives/HDD03_06T_SDE/anna/SyntenyPlotDSMSubH2/genomes/GCF_049434525.1_MWCSPHH2ANNA_genomic.fasta\n",
      "2025-10-30 10:17:24 INFO:\tThe local file or folder /home/Drives/HDD03_06T_SDE/anna/SyntenyPlotDSMSubH2/genomes/busco_downloads/lineages/rhodobacter_odb12 is the last available version.\n",
      "2025-10-30 10:17:24 INFO:\tRunning BUSCO using lineage dataset rhodobacter_odb12 (prokaryota, 2025-05-14)\n",
      "2025-10-30 10:17:24 INFO:\tRunning 1 job(s) on bbtools, starting at 10/30/2025 10:17:24\n",
      "2025-10-30 10:17:26 INFO:\t[bbtools]\t1 of 1 task(s) completed\n",
      "2025-10-30 10:17:26 INFO:\t***** Run Prodigal on input to predict and extract genes *****\n",
      "2025-10-30 10:17:26 INFO:\tRunning Prodigal with genetic code 11 in single mode\n",
      "2025-10-30 10:17:26 INFO:\tRunning 1 job(s) on prodigal, starting at 10/30/2025 10:17:26\n",
      "2025-10-30 10:17:35 INFO:\t[prodigal]\t1 of 1 task(s) completed\n",
      "2025-10-30 10:17:35 INFO:\tGenetic code 11 selected as optimal\n",
      "2025-10-30 10:17:35 INFO:\t***** Run HMMER on gene sequences *****\n",
      "2025-10-30 10:17:35 INFO:\tRunning 1343 job(s) on hmmsearch, starting at 10/30/2025 10:17:35\n",
      "2025-10-30 10:17:38 INFO:\t[hmmsearch]\t135 of 1343 task(s) completed\n",
      "2025-10-30 10:17:38 INFO:\t[hmmsearch]\t269 of 1343 task(s) completed\n",
      "2025-10-30 10:17:39 INFO:\t[hmmsearch]\t403 of 1343 task(s) completed\n",
      "2025-10-30 10:17:40 INFO:\t[hmmsearch]\t538 of 1343 task(s) completed\n",
      "2025-10-30 10:17:41 INFO:\t[hmmsearch]\t672 of 1343 task(s) completed\n",
      "2025-10-30 10:17:41 INFO:\t[hmmsearch]\t806 of 1343 task(s) completed\n",
      "2025-10-30 10:17:42 INFO:\t[hmmsearch]\t941 of 1343 task(s) completed\n",
      "2025-10-30 10:17:43 INFO:\t[hmmsearch]\t1075 of 1343 task(s) completed\n",
      "2025-10-30 10:17:44 INFO:\t[hmmsearch]\t1209 of 1343 task(s) completed\n",
      "2025-10-30 10:17:45 INFO:\t[hmmsearch]\t1343 of 1343 task(s) completed\n",
      "2025-10-30 10:17:47 INFO:\tResults:\tC:98.2%[S:98.1%,D:0.1%],F:0.5%,M:1.3%,n:1343\t   \n",
      "\n",
      "2025-10-30 10:17:47 INFO:\t\n",
      "\n",
      "    ---------------------------------------------------\n",
      "    |Results from dataset rhodobacter_odb12            |\n",
      "    ---------------------------------------------------\n",
      "    |C:98.2%[S:98.1%,D:0.1%],F:0.5%,M:1.3%,n:1343      |\n",
      "    |1319    Complete BUSCOs (C)                       |\n",
      "    |1317    Complete and single-copy BUSCOs (S)       |\n",
      "    |2    Complete and duplicated BUSCOs (D)           |\n",
      "    |7    Fragmented BUSCOs (F)                        |\n",
      "    |17    Missing BUSCOs (M)                          |\n",
      "    |1343    Total BUSCO groups searched               |\n",
      "    ---------------------------------------------------\n",
      "2025-10-30 10:17:47 INFO:\tBUSCO analysis done. Total running time: 23 seconds\n",
      "2025-10-30 10:17:47 INFO:\tResults written in /home/Drives/HDD03_06T_SDE/anna/SyntenyPlotDSMSubH2/genomes/SUBH2\n",
      "2025-10-30 10:17:47 INFO:\tFor assistance with interpreting the results, please consult the userguide: https://busco.ezlab.org/busco_userguide.html\n",
      "\n",
      "2025-10-30 10:17:47 INFO:\tVisit this page https://gitlab.com/ezlab/busco#how-to-cite-busco to see how to cite BUSCO\n",
      "2025-10-30 10:17:47 INFO:\tThank you for using BUSCO! Anonymous usage data is gathered to improve the tool. You may opt out with --opt-out-run-stats.\n",
      "mkdir: cannot create directory ‘busco’: File exists\n"
     ]
    }
   ],
   "source": [
    "conda activate busco\n",
    "cd /home/Drives/HDD03_06T_SDE/anna/SyntenyPlotDSMSubH2/genomes\n",
    "busco -i ./DSM158.fasta -m genome -l rhodobacter_odb12 -c 20 -o DSM\n",
    "busco -i ./GCF_000012905.2_ASM1290v2_genomic.fasta -m genome -l rhodobacter_odb12 -c 20 -o NCBI_Ref\n",
    "busco -i ./GCF_049434525.1_MWCSPHH2ANNA_genomic.fasta -m genome -l rhodobacter_odb12 -c 20 -o SUBH2\n",
    "conda deactivate\n",
    "mkdir busco\n",
    "cp -r ./DSM/ ./busco\n",
    "cp -r ./NCBI_Ref/ ./busco\n",
    "cp -r ./SUBH2/ ./busco\n",
    "rm -r ./DSM ./NCBI_Ref ./SUBH2"
   ]
  },
  {
   "cell_type": "markdown",
   "id": "c778bdc0-681d-411d-95f3-5b819a7d210e",
   "metadata": {},
   "source": [
    "## CheckM2"
   ]
  },
  {
   "cell_type": "code",
   "execution_count": 5,
   "id": "cd2f2183-af41-4ded-a64b-23748eb889e7",
   "metadata": {},
   "outputs": [
    {
     "name": "stdout",
     "output_type": "stream",
     "text": [
      "[10/30/2025 10:17:54 AM] INFO: Running CheckM2 version 1.1.0\n",
      "[10/30/2025 10:17:54 AM] INFO: Running quality prediction workflow with 30 threads.\n",
      "[10/30/2025 10:17:55 AM] INFO: Calling genes in 3 bins with 30 threads:\n",
      "    Finished processing 3 of 3 (100.00%) bins.\n",
      "[10/30/2025 10:18:31 AM] INFO: Calculating metadata for 3 bins with 30 threads:\n",
      "    Finished processing 3 of 3 (100.00%) bin metadata.\n",
      "[10/30/2025 10:18:31 AM] INFO: Annotating input genomes with DIAMOND using 30 threads\n",
      "[10/30/2025 10:19:09 AM] INFO: Processing DIAMOND output\n",
      "[10/30/2025 10:19:09 AM] INFO: Predicting completeness and contamination using ML models.\n",
      "[10/30/2025 10:19:14 AM] INFO: Parsing all results and constructing final output table.\n",
      "[10/30/2025 10:19:14 AM] INFO: CheckM2 finished successfully.\n"
     ]
    }
   ],
   "source": [
    "conda activate checkm2\n",
    "cd /home/Drives/HDD03_06T_SDE/anna/SyntenyPlotDSMSubH2/genomes\n",
    "#mkdir CheckM2\n",
    "checkm2 predict --threads 30 --force --input ./DSM158.fasta ./GCF_000012905.2_ASM1290v2_genomic.fasta ./GCF_049434525.1_MWCSPHH2ANNA_genomic.fasta --output-directory ./CheckM2 "
   ]
  },
  {
   "cell_type": "markdown",
   "id": "c828b74a-adb4-407d-8fa3-1bc5b8a464fb",
   "metadata": {},
   "source": [
    "# Pangenome construction using ppanggolin"
   ]
  },
  {
   "cell_type": "markdown",
   "id": "d59b4e78-24c5-4e05-a096-835b4afac165",
   "metadata": {},
   "source": [
    "Prepare the gff.list file for ppanggolin"
   ]
  },
  {
   "cell_type": "code",
   "execution_count": 7,
   "id": "16531791-13a9-4cc9-be46-1cbaae1a5e17",
   "metadata": {
    "scrolled": true
   },
   "outputs": [
    {
     "name": "stdout",
     "output_type": "stream",
     "text": [
      "GCF_000012905.2.gbff^I/home/Drives/HDD03_06T_SDE/anna/SyntenyPlotDSMSubH2/genomes/Annot/GCF_000012905.2.gbff\n",
      "GCF_000015985.1.gbff^I/home/Drives/HDD03_06T_SDE/anna/SyntenyPlotDSMSubH2/genomes/Annot/GCF_000015985.1.gbff\n",
      "GCF_000021005.1.gbff^I/home/Drives/HDD03_06T_SDE/anna/SyntenyPlotDSMSubH2/genomes/Annot/GCF_000021005.1.gbff\n",
      "GCF_000212605.1.gbff^I/home/Drives/HDD03_06T_SDE/anna/SyntenyPlotDSMSubH2/genomes/Annot/GCF_000212605.1.gbff\n",
      "GCF_000269625.1.gbff^I/home/Drives/HDD03_06T_SDE/anna/SyntenyPlotDSMSubH2/genomes/Annot/GCF_000269625.1.gbff\n",
      "GCF_000273405.1.gbff^I/home/Drives/HDD03_06T_SDE/anna/SyntenyPlotDSMSubH2/genomes/Annot/GCF_000273405.1.gbff\n",
      "GCF_001576595.1.gbff^I/home/Drives/HDD03_06T_SDE/anna/SyntenyPlotDSMSubH2/genomes/Annot/GCF_001576595.1.gbff\n",
      "GCF_001685625.1.gbff^I/home/Drives/HDD03_06T_SDE/anna/SyntenyPlotDSMSubH2/genomes/Annot/GCF_001685625.1.gbff\n",
      "GCF_002706325.1.gbff^I/home/Drives/HDD03_06T_SDE/anna/SyntenyPlotDSMSubH2/genomes/Annot/GCF_002706325.1.gbff\n",
      "GCF_003324715.1.gbff^I/home/Drives/HDD03_06T_SDE/anna/SyntenyPlotDSMSubH2/genomes/Annot/GCF_003324715.1.gbff\n",
      "GCF_003846365.1.gbff^I/home/Drives/HDD03_06T_SDE/anna/SyntenyPlotDSMSubH2/genomes/Annot/GCF_003846365.1.gbff\n",
      "GCF_003846385.1.gbff^I/home/Drives/HDD03_06T_SDE/anna/SyntenyPlotDSMSubH2/genomes/Annot/GCF_003846385.1.gbff\n",
      "GCF_003846405.1.gbff^I/home/Drives/HDD03_06T_SDE/anna/SyntenyPlotDSMSubH2/genomes/Annot/GCF_003846405.1.gbff\n",
      "GCF_003846425.1.gbff^I/home/Drives/HDD03_06T_SDE/anna/SyntenyPlotDSMSubH2/genomes/Annot/GCF_003846425.1.gbff\n",
      "GCF_012647365.1.gbff^I/home/Drives/HDD03_06T_SDE/anna/SyntenyPlotDSMSubH2/genomes/Annot/GCF_012647365.1.gbff\n",
      "GCF_049434525.1.gbff^I/home/Drives/HDD03_06T_SDE/anna/SyntenyPlotDSMSubH2/genomes/Annot/GCF_049434525.1.gbff\n",
      "GCF_052246835.1.gbff^I/home/Drives/HDD03_06T_SDE/anna/SyntenyPlotDSMSubH2/genomes/Annot/GCF_052246835.1.gbff\n",
      "DSM158.gbk^I/home/Drives/HDD03_06T_SDE/anna/SyntenyPlotDSMSubH2/genomes/Annot/DSM158.gbk\n"
     ]
    }
   ],
   "source": [
    "cd /home/Drives/HDD03_06T_SDE/anna/SyntenyPlotDSMSubH2/Ppanggolin/\n",
    "rm genomes.gbff.list\n",
    "touch genomes.gff.list\n",
    "cd ../genomes/Annot\n",
    "for i in *.gbff *.gbk; do echo -e  $i'\\t'$(pwd)/$i >> ../../Ppanggolin/genomes.gbff.list; done\n",
    "cd ../../Ppanggolin\n",
    "cat --show-tabs genomes.gbff.list"
   ]
  },
  {
   "cell_type": "code",
   "execution_count": 9,
   "id": "3cad7b3a-3044-4e52-931d-7e3f94b5cee5",
   "metadata": {
    "scrolled": true
   },
   "outputs": [
    {
     "name": "stdout",
     "output_type": "stream",
     "text": [
      "2025-10-30 10:19:52 main.py:l146 INFO\tCommand: /home/jupyter-anna/.conda/envs/ppanggolin/bin/ppanggolin workflow -f -o ./output --cpu 20 --anno genomes.gbff.list\n",
      "2025-10-30 10:19:52 main.py:l147 INFO\tPPanGGOLiN version: 1.0.13\n",
      "2025-10-30 10:19:52 annotate.py:l309 INFO\tReading genomes.gbff.list the list of organism files ...\n",
      "Processing DSM158.gbk: 100%|███████| 18/18 [00:09<00:00,  1.95annotation file/s]\n",
      "2025-10-30 10:20:01 writeBinaries.py:l387 INFO\tWriting genome annotations...\n",
      "100%|███████████████████████████████████████| 18/18 [00:00<00:00, 92.12genome/s]\n",
      "2025-10-30 10:20:01 writeBinaries.py:l400 INFO\twriting the protein coding gene dna sequences\n",
      "100%|███████████████████████████████| 77147/77147 [00:00<00:00, 105161.82gene/s]\n",
      "2025-10-30 10:20:02 writeBinaries.py:l426 INFO\tDone writing the pangenome. It is in file : output/pangenome.h5\n",
      "2025-10-30 10:20:02 cluster.py:l158 INFO\tWriting all of the CDS sequences for clustering...\n",
      "100%|███████████████████████████████| 77147/77147 [00:00<00:00, 323343.87gene/s]\n",
      "2025-10-30 10:20:02 cluster.py:l201 INFO\tClustering all of the genes sequences...\n",
      "2025-10-30 10:20:02 cluster.py:l45 INFO\tCreating sequence database...\n",
      "2025-10-30 10:20:03 cluster.py:l54 INFO\tClustering sequences...\n",
      "2025-10-30 10:20:05 cluster.py:l56 INFO\tExtracting cluster representatives...\n",
      "2025-10-30 10:20:05 cluster.py:l68 INFO\tWriting gene to family informations\n",
      "2025-10-30 10:20:06 cluster.py:l148 INFO\tAdding protein sequences to the gene families\n",
      "2025-10-30 10:20:06 cluster.py:l130 INFO\tAdding 77147 genes to the gene families\n",
      "100%|███████████████████████████████| 77147/77147 [00:00<00:00, 230322.64gene/s]\n",
      "2025-10-30 10:20:06 makeGraph.py:l56 INFO\tComputing the neighbors graph...\n",
      "Processing DSM158.gbk: 100%|██████████████| 18/18 [00:00<00:00, 42.71organism/s]\n",
      "2025-10-30 10:20:07 makeGraph.py:l74 INFO\tDone making the neighbors graph.\n",
      "2025-10-30 10:20:07 partition.py:l349 INFO\tEstimating the optimal number of partitions...\n",
      "100%|███████████████| 19/19 [00:01<00:00, 11.59Number of number of partitions/s]\n",
      "2025-10-30 10:20:08 partition.py:l351 INFO\tThe number of partitions has been evaluated at 3\n",
      "2025-10-30 10:20:08 partition.py:l369 INFO\tPartitioning...\n",
      "2025-10-30 10:20:09 partition.py:l429 INFO\tPartitionned 18 genomes in 0.31 seconds.\n",
      "2025-10-30 10:20:09 writeBinaries.py:l405 INFO\tWriting gene families and gene associations...\n",
      "100%|██████████████████████████| 6224/6224 [00:00<00:00, 107409.53gene family/s]\n",
      "2025-10-30 10:20:09 writeBinaries.py:l407 INFO\tWriting gene families information...\n",
      "100%|██████████████████████████| 6224/6224 [00:00<00:00, 312541.58gene family/s]\n",
      "2025-10-30 10:20:09 writeBinaries.py:l414 INFO\tWriting the edges...\n",
      "100%|██████████████████████████████████| 7398/7398 [00:00<00:00, 97064.43edge/s]\n",
      "2025-10-30 10:20:09 writeBinaries.py:l328 INFO\tUpdating gene families with partition information\n",
      "100%|██████████████████████████| 6224/6224 [00:00<00:00, 195830.26gene family/s]\n",
      "2025-10-30 10:20:09 writeBinaries.py:l426 INFO\tDone writing the pangenome. It is in file : output/pangenome.h5\n",
      "2025-10-30 10:20:09 tile_plot.py:l38 INFO\tDrawing the tile plot...\n",
      "2025-10-30 10:20:09 tile_plot.py:l54 INFO\tstart with matrice\n",
      "2025-10-30 10:20:09 tile_plot.py:l69 INFO\tdone with making the dendrogram to order the organisms on the plot\n",
      "2025-10-30 10:20:09 tile_plot.py:l104 INFO\tGetting the gene name(s) and the number for each tile of the plot ...\n",
      "2025-10-30 10:20:09 tile_plot.py:l113 INFO\tDone extracting names and numbers. Making the heatmap ...\n",
      "2025-10-30 10:20:10 tile_plot.py:l169 INFO\tDrawing the figure itself...\n",
      "2025-10-30 10:20:12 tile_plot.py:l171 INFO\tDone with the tile plot : './output/tile_plot.html' \n",
      "2025-10-30 10:20:12 ucurve.py:l13 INFO\tDrawing the U-shaped curve...\n",
      "2025-10-30 10:20:13 ucurve.py:l60 INFO\tDone drawing the U-shaped curve : './output/Ushaped_plot.html'\n",
      "2025-10-30 10:20:13 writeFlat.py:l225 INFO\tWriting the .csv file ...\n",
      "2025-10-30 10:20:13 writeFlat.py:l281 INFO\tWriting the gene presence absence file ...\n",
      "2025-10-30 10:20:13 writeFlat.py:l213 INFO\tWriting the gexf file for the pangenome graph...\n",
      "2025-10-30 10:20:13 writeFlat.py:l213 INFO\tWriting the light gexf file for the pangenome graph...\n",
      "2025-10-30 10:20:13 writeFlat.py:l421 INFO\tWriting the projection files...\n",
      "2025-10-30 10:20:13 writeFlat.py:l304 INFO\tWriting pangenome statistics...\n",
      "2025-10-30 10:20:13 writeFlat.py:l305 INFO\tWriting statistics on persistent duplication...\n",
      "2025-10-30 10:20:13 writeFlat.py:l106 INFO\tWriting the json file for the pangenome graph...\n",
      "2025-10-30 10:20:13 writeFlat.py:l430 INFO\tWriting the list of gene families for each partitions...\n",
      "2025-10-30 10:20:13 writeFlat.py:l301 INFO\tDone writing the gene presence absence file : './output/gene_presence_absence.Rtab'\n",
      "2025-10-30 10:20:13 writeFlat.py:l456 INFO\tDone writing the list of gene families for each partition\n",
      "2025-10-30 10:20:13 writeFlat.py:l326 INFO\tDone writing stats on persistent duplication\n",
      "2025-10-30 10:20:13 writeFlat.py:l327 INFO\tWriting genome per genome statistics (completeness and counts)...\n",
      "2025-10-30 10:20:13 writeFlat.py:l389 INFO\tDone writing genome per genome statistics\n",
      "2025-10-30 10:20:13 writeFlat.py:l278 INFO\tDone writing the matrix : './output/matrix.csv'\n",
      "2025-10-30 10:20:13 writeFlat.py:l222 INFO\tDone writing the gexf file : './output/pangenomeGraph_light.gexf'\n",
      "2025-10-30 10:20:13 writeFlat.py:l222 INFO\tDone writing the gexf file : './output/pangenomeGraph.gexf'\n",
      "2025-10-30 10:20:13 writeFlat.py:l427 INFO\tDone writing the projection files\n",
      "2025-10-30 10:20:14 writeFlat.py:l113 INFO\tDone writing the json file : './output/pangenomeGraph.json'\n",
      "Genes : 77147\n",
      "Organisms : 18\n",
      "Families : 6224\n",
      "Edges : 7398\n",
      "Persistent ( min:0.67, max:1.0, sd:0.04, mean:0.99 ): 3708\n",
      "Shell ( min:0.33, max:0.83, sd:0.1, mean:0.59 ): 538\n",
      "Cloud ( min:0.06, max:0.61, sd:0.1, mean:0.12 ): 1978\n",
      "Number of partitions : 3\n"
     ]
    }
   ],
   "source": [
    "cd /home/Drives/HDD03_06T_SDE/anna/SyntenyPlotDSMSubH2/Ppanggolin/\n",
    "conda activate ppanggolin\n",
    "ppanggolin workflow -f -o ./output --cpu 20 --anno genomes.gbff.list\n",
    "conda deactivate"
   ]
  }
 ],
 "metadata": {
  "kernelspec": {
   "display_name": "Bash",
   "language": "bash",
   "name": "bash"
  },
  "language_info": {
   "codemirror_mode": "shell",
   "file_extension": ".sh",
   "mimetype": "text/x-sh",
   "name": "bash"
  }
 },
 "nbformat": 4,
 "nbformat_minor": 5
}
